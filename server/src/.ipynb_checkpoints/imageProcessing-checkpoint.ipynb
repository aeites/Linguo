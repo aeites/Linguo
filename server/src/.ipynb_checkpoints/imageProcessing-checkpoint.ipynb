{
 "cells": [
  {
   "cell_type": "code",
   "execution_count": 52,
   "metadata": {},
   "outputs": [
    {
     "name": "stdout",
     "output_type": "stream",
     "text": [
      "[<Bucket: staging.vernal-vine-235417.appspot.com>, <Bucket: storage_photos>, <Bucket: vernal-vine-235417-vcm>, <Bucket: vernal-vine-235417.appspot.com>]\n",
      "\n",
      "<Bucket: storage_photos>\n",
      "\n",
      "<google.api_core.page_iterator.HTTPIterator object at 0x113849208>\n",
      "\n",
      "New Flyer.jpg\n"
     ]
    }
   ],
   "source": [
    "from PIL import Image\n",
    "from google.cloud import storage\n",
    "from gtts import gTTS\n",
    "import os\n",
    "import pygame\n",
    "storage_client = storage.Client.from_service_account_json('Linguo-495a24a54222.json')\n",
    "\n",
    "\n",
    "# Make an authenticated API request\n",
    "bucketslist = list(storage_client.list_buckets())\n",
    "print(bucketslist)\n",
    "print(\"\")\n",
    "bucket = storage_client.get_bucket(\"storage_photos\")\n",
    "\n",
    "print(bucket)\n",
    "print(\"\")\n",
    "blobs = bucket.list_blobs()\n",
    "\n",
    "print(blobs)\n",
    "print(\"\")\n",
    "\n",
    "\n",
    "\n",
    "\n",
    "for blob in blobs:\n",
    "    print(blob.name)\n",
    "    filename = \"blob\" + str(x) + \".jpeg\"\n",
    "    blob.download_to_filename(filename)\n",
    "    base = Image.open(filename).convert('RGBA')\n",
    "    break\n",
    "    \n",
    "\n",
    "# make a blank image for the text, initialized to transparent text color\n",
    "txt = Image.new('RGBA', base.size, (255,255,255,100))\n",
    "\n",
    "# get a font\n",
    "fnt = ImageFont.truetype(font=\"Montserrat-Medium.otf\", size=50)\n",
    "# get a drawing context\n",
    "d = ImageDraw.Draw(txt)\n",
    "\n",
    "x= 200\n",
    "y= 200\n",
    "\n",
    "shadowcolor = (255,255,255,255)\n",
    "\n",
    "# draw text, half opacity\n",
    "d.text((200,100), \"Hello\", font=fnt, fill=(255,255,255,0))\n",
    "# draw text, full opacity\n",
    "d.text((x,y), text, font=fnt, fill=shadowcolor)\n",
    "\n",
    "\n",
    "\n",
    "out = Image.alpha_composite(base, txt)\n",
    "out.show()\n",
    "  \n",
    "# Language in which you want to convert \n",
    "language = 'pt-BR'\n",
    "text = \"meu nome é neel\"\n",
    "language = \"pt-BR\"\n",
    "# Passing the text and language to the engine,  \n",
    "# here we have marked slow=False. Which tells  \n",
    "# the module that the converted audio should  \n",
    "# have a high speed \n",
    "myobj = gTTS(text=text, lang=language, slow=False) \n",
    "  \n",
    "# Saving the converted audio in a mp3 file named \n",
    "# welcome  \n",
    "audioFile = \"welcome.mp3\"\n",
    "myobj.save(audioFile) \n",
    "  \n",
    "# Playing the converted file \n",
    "os.system(\"mpg321 welcome.mp3\") \n",
    "\n",
    "pygame.mixer.init()\n",
    "pygame.mixer.music.load(audioFile)\n",
    "pygame.mixer.music.play()"
   ]
  },
  {
   "cell_type": "code",
   "execution_count": null,
   "metadata": {},
   "outputs": [],
   "source": []
  },
  {
   "cell_type": "code",
   "execution_count": null,
   "metadata": {},
   "outputs": [],
   "source": []
  },
  {
   "cell_type": "code",
   "execution_count": null,
   "metadata": {},
   "outputs": [],
   "source": []
  }
 ],
 "metadata": {
  "kernelspec": {
   "display_name": "Python 3",
   "language": "python",
   "name": "python3"
  },
  "language_info": {
   "codemirror_mode": {
    "name": "ipython",
    "version": 3
   },
   "file_extension": ".py",
   "mimetype": "text/x-python",
   "name": "python",
   "nbconvert_exporter": "python",
   "pygments_lexer": "ipython3",
   "version": "3.6.5"
  }
 },
 "nbformat": 4,
 "nbformat_minor": 2
}
