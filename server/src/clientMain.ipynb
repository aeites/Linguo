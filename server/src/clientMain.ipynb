{
 "cells": [
  {
   "cell_type": "code",
   "execution_count": null,
   "metadata": {},
   "outputs": [],
   "source": [
    "from storageHandler import StorageHandler\n",
    "from audioHandler import AudioHandler\n",
    "from translationHandler import TranslationHandler\n",
    "from PIL import Image\n",
    "from server import Server\n",
    "\n",
    "#instantiate handlers\n",
    "th = TranslationHandler('api-key.json')\n",
    "sh = StorageHandler('api-key.json')\n",
    "sr = Server('api-key.json')\n",
    "\n",
    "\n",
    "\n",
    "#input filePath \n",
    "fileName = input(\"What image name do you want to use? \")\n",
    "filePath = fileName + \".jpeg\"\n",
    "\n",
    "\n",
    "#upload image server call\n",
    "remoteImagePath = sh.uploadNewPhoto(filePath, sh.getBucket())\n",
    "print(remoteImagePath)\n",
    "\n",
    "#get language possible list \n",
    "langList = th.getLanguageList()\n",
    "\n",
    "#take user input for language and check against possible options\n",
    "run = True\n",
    "while(run):\n",
    "    languageChoice = input(\"What language do you want to learn? \").lower()\n",
    "    for element in langList:\n",
    "        if element.lower() == languageChoice:\n",
    "            run = False\n",
    "    if(run == False):\n",
    "        break\n",
    "    print(\"\")\n",
    "    print(\"Language not currently supported try again!\")\n",
    " \n",
    "\n",
    "#process image\n",
    "##remoteImagePath = \"gs://\" + sh.getBucket().name + r\"/\" + filePath\n",
    "\n",
    "processed = sr.processImage(fileName, remoteImagePath, languageChoice)\n",
    "\n",
    "#get overlay image and display\n",
    "##filePath= fileName + \"_processed\" + \".jpeg\"\n",
    "##sh.downloadOneBlob(sh.getBucket(), filePath)\n",
    "#img = Image.open(processed[1])\n",
    "#img.show()\n",
    "\n",
    "#get ttsCode and produce audio\n",
    "ah = AudioHandler(languageChoice)\n",
    "ttsCode = ah.produceCode(languageChoice)\n",
    "\n",
    "\n",
    "\n",
    "ah.produceAudio(processed[0], ttsCode)\n"
   ]
  },
  {
   "cell_type": "code",
   "execution_count": null,
   "metadata": {},
   "outputs": [],
   "source": []
  },
  {
   "cell_type": "code",
   "execution_count": null,
   "metadata": {},
   "outputs": [],
   "source": []
  }
 ],
 "metadata": {
  "kernelspec": {
   "display_name": "Python 3",
   "language": "python",
   "name": "python3"
  },
  "language_info": {
   "codemirror_mode": {
    "name": "ipython",
    "version": 3
   },
   "file_extension": ".py",
   "mimetype": "text/x-python",
   "name": "python",
   "nbconvert_exporter": "python",
   "pygments_lexer": "ipython3",
   "version": "3.6.5"
  }
 },
 "nbformat": 4,
 "nbformat_minor": 2
}
