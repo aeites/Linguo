{
 "cells": [
  {
   "cell_type": "code",
   "execution_count": 2,
   "metadata": {},
   "outputs": [
    {
     "ename": "SyntaxError",
     "evalue": "invalid syntax (server.py, line 12)",
     "output_type": "error",
     "traceback": [
      "Traceback \u001b[0;36m(most recent call last)\u001b[0m:\n",
      "  File \u001b[1;32m\"/Users/main/anaconda3/lib/python3.6/site-packages/IPython/core/interactiveshell.py\"\u001b[0m, line \u001b[1;32m2963\u001b[0m, in \u001b[1;35mrun_code\u001b[0m\n    exec(code_obj, self.user_global_ns, self.user_ns)\n",
      "\u001b[0;36m  File \u001b[0;32m\"<ipython-input-2-dd62c85852df>\"\u001b[0;36m, line \u001b[0;32m1\u001b[0;36m, in \u001b[0;35m<module>\u001b[0;36m\u001b[0m\n\u001b[0;31m    from server import Server\u001b[0m\n",
      "\u001b[0;36m  File \u001b[0;32m\"/Users/main/Linguo/server/src/server.py\"\u001b[0;36m, line \u001b[0;32m12\u001b[0m\n\u001b[0;31m    <<<<<<< HEAD\u001b[0m\n\u001b[0m     ^\u001b[0m\n\u001b[0;31mSyntaxError\u001b[0m\u001b[0;31m:\u001b[0m invalid syntax\n"
     ]
    }
   ],
   "source": [
    "from server import Server\n",
    "from storageHandler import StorageHandler\n",
    "from audioHandler import AudioHandler as ah\n",
    "from translationHandler import TranslationHandler\n",
    "\n",
    "\n",
    "#instantiate handlers\n",
    "sr = Server('Linguo-495a24a54222.json')\n",
    "th = TranslationHandler('Linguo-495a24a54222.json')\n",
    "sh = StorageHandler('Linguo-495a24a54222.json')\n",
    "\n",
    "\n",
    "\n",
    "\n",
    "#input filePath \n",
    "filePath = input(\"What image filePath do you want to use? \")\n",
    "\n",
    "\n",
    "#upload image server call\n",
    "sh.uploadNewPhoto(filePath, sh.getBucket())\n",
    "\n",
    "\n",
    "#get langauge possible list \n",
    "langList = th.getLanguageList()\n",
    "\n",
    "#take user input for language and check against possible options\n",
    "run = True\n",
    "while(run):\n",
    "    languageChoice = input(\"What language do you want to learn? \").lower()\n",
    "    for element in langList:\n",
    "        if element.lower() == languageChoice:\n",
    "            run = False\n",
    "    if(run == False):\n",
    "        break\n",
    "    print(\"\")\n",
    "    print(\"Language not currently supported try again!\")\n",
    " \n",
    "\n",
    "#get ttsCode and produce audio\n",
    "ttsCode = ah.produceCode(languageChoice)\n",
    "print(ttsCode)\n",
    "ah.produceAudio(labels, ttsCode)\n",
    "\n",
    "\n",
    "\n",
    "\n",
    "\n"
   ]
  },
  {
   "cell_type": "code",
   "execution_count": null,
   "metadata": {},
   "outputs": [],
   "source": []
  },
  {
   "cell_type": "code",
   "execution_count": null,
   "metadata": {},
   "outputs": [],
   "source": []
  }
 ],
 "metadata": {
  "kernelspec": {
   "display_name": "Python 3",
   "language": "python",
   "name": "python3"
  },
  "language_info": {
   "codemirror_mode": {
    "name": "ipython",
    "version": 3
   },
   "file_extension": ".py",
   "mimetype": "text/x-python",
   "name": "python",
   "nbconvert_exporter": "python",
   "pygments_lexer": "ipython3",
   "version": "3.6.5"
  }
 },
 "nbformat": 4,
 "nbformat_minor": 2
}
