{
 "cells": [
  {
   "cell_type": "code",
   "execution_count": null,
   "metadata": {},
   "outputs": [
    {
     "name": "stdout",
     "output_type": "stream",
     "text": [
      "What language do you want to learn? oaijkdioa\n",
      "\n",
      "Language not currently supported try again!\n"
     ]
    }
   ],
   "source": [
    "from translationHandler import TranslationHandler\n",
    "from server import Server\n",
    "\n",
    "sr = Server('Linguo-495a24a54222.json')\n",
    "th = TranslationHandler('Linguo-495a24a54222.json')\n",
    "\n",
    "langList = th.getLanguageList()\n",
    "\n",
    "\n",
    "filePath = input(\"What image filePath do you want to use? \")\n",
    "sr.getUnprocessedFiles()\n",
    "sr.bucket\n",
    "\n",
    "#take user input for language and check against possible options\n",
    "run = True\n",
    "while(run):\n",
    "    languageChoice = input(\"What language do you want to learn? \").lower()\n",
    "    \n",
    "    for element in langList:\n",
    "        if element.lower() == languageChoice:\n",
    "            run = False\n",
    "    if(run == False):\n",
    "        break\n",
    "    print(\"\")\n",
    "    print(\"Language not currently supported try again!\")\n",
    "    \n",
    "\n",
    "print(languageChoice)\n",
    "\n"
   ]
  },
  {
   "cell_type": "code",
   "execution_count": null,
   "metadata": {},
   "outputs": [],
   "source": []
  },
  {
   "cell_type": "code",
   "execution_count": null,
   "metadata": {},
   "outputs": [],
   "source": []
  }
 ],
 "metadata": {
  "kernelspec": {
   "display_name": "Python 3",
   "language": "python",
   "name": "python3"
  },
  "language_info": {
   "codemirror_mode": {
    "name": "ipython",
    "version": 3
   },
   "file_extension": ".py",
   "mimetype": "text/x-python",
   "name": "python",
   "nbconvert_exporter": "python",
   "pygments_lexer": "ipython3",
   "version": "3.6.5"
  }
 },
 "nbformat": 4,
 "nbformat_minor": 2
}
