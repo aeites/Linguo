{
 "cells": [
  {
   "cell_type": "code",
   "execution_count": null,
   "metadata": {},
   "outputs": [],
   "source": [
    "from translationHandler import TranslationHandler\n",
    "import tkinter as tk\n",
    "from tkinter import * \n",
    "\n",
    "\n",
    "\n",
    "th = TranslationHandler('Linguo-495a24a54222.json')\n",
    "langList = th.getLanguageList()\n",
    "\n",
    "while(True)\n",
    "    languageChoice = input(\"What language do you want to learn?\")\n",
    "    for element in langList:\n",
    "        if languageChoice == element:\n",
    "            break\n",
    "    \n",
    "\n",
    "\n"
   ]
  },
  {
   "cell_type": "code",
   "execution_count": null,
   "metadata": {},
   "outputs": [],
   "source": []
  }
 ],
 "metadata": {
  "kernelspec": {
   "display_name": "Python 3",
   "language": "python",
   "name": "python3"
  },
  "language_info": {
   "codemirror_mode": {
    "name": "ipython",
    "version": 3
   },
   "file_extension": ".py",
   "mimetype": "text/x-python",
   "name": "python",
   "nbconvert_exporter": "python",
   "pygments_lexer": "ipython3",
   "version": "3.6.5"
  }
 },
 "nbformat": 4,
 "nbformat_minor": 2
}
