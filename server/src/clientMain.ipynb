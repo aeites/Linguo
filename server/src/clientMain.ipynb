{
 "cells": [
  {
   "cell_type": "code",
   "execution_count": 1,
   "metadata": {},
   "outputs": [
    {
     "name": "stdout",
     "output_type": "stream",
     "text": [
      "/b/storage_photos/o\n",
      "Eventbright Banner.jpg\n",
      "/b/storage_photos/o/Eventbright%20Banner.jpg\n",
      "New Flyer.jpg\n",
      "/b/storage_photos/o/New%20Flyer.jpg\n",
      "Pi Day 2019.jpg\n",
      "/b/storage_photos/o/Pi%20Day%202019.jpg\n",
      "Pi Day Image.jpg\n",
      "/b/storage_photos/o/Pi%20Day%20Image.jpg\n",
      "cat.jpg\n",
      "/b/storage_photos/o/cat.jpg\n",
      "linguo_white_text-01.png\n",
      "/b/storage_photos/o/linguo_white_text-01.png\n",
      "Enter file name: crappy.jpeg\n",
      "/b/storage_photos/o\n",
      "Eventbright Banner.jpg\n",
      "/b/storage_photos/o/Eventbright%20Banner.jpg\n",
      "New Flyer.jpg\n",
      "/b/storage_photos/o/New%20Flyer.jpg\n",
      "Pi Day 2019.jpg\n",
      "/b/storage_photos/o/Pi%20Day%202019.jpg\n",
      "Pi Day Image.jpg\n",
      "/b/storage_photos/o/Pi%20Day%20Image.jpg\n",
      "cat.jpg\n",
      "/b/storage_photos/o/cat.jpg\n",
      "crappy.jpeg\n",
      "/b/storage_photos/o/crappy.jpeg\n",
      "linguo_white_text-01.png\n",
      "/b/storage_photos/o/linguo_white_text-01.png\n",
      "Enter one file to download: cat.jpg\n",
      "pygame 1.9.4\n",
      "Hello from the pygame community. https://www.pygame.org/contribute.html\n",
      "What image filePath do you want to use? crappy.jpeg\n",
      "What language do you want to learn? spanish\n"
     ]
    },
    {
     "ename": "TypeError",
     "evalue": "processImage() missing 1 required positional argument: 'language'",
     "output_type": "error",
     "traceback": [
      "\u001b[0;31m---------------------------------------------------------------------------\u001b[0m",
      "\u001b[0;31mTypeError\u001b[0m                                 Traceback (most recent call last)",
      "\u001b[0;32m<ipython-input-1-44253b6615bb>\u001b[0m in \u001b[0;36m<module>\u001b[0;34m()\u001b[0m\n\u001b[1;32m     40\u001b[0m \u001b[0;34m\u001b[0m\u001b[0m\n\u001b[1;32m     41\u001b[0m \u001b[0;31m#server processImage\u001b[0m\u001b[0;34m\u001b[0m\u001b[0;34m\u001b[0m\u001b[0m\n\u001b[0;32m---> 42\u001b[0;31m \u001b[0msr\u001b[0m\u001b[0;34m.\u001b[0m\u001b[0mprocessImage\u001b[0m\u001b[0;34m(\u001b[0m\u001b[0mfilePath\u001b[0m\u001b[0;34m,\u001b[0m \u001b[0;34m)\u001b[0m\u001b[0;34m\u001b[0m\u001b[0m\n\u001b[0m\u001b[1;32m     43\u001b[0m \u001b[0;34m\u001b[0m\u001b[0m\n\u001b[1;32m     44\u001b[0m \u001b[0;31m#overlay and final ouput\u001b[0m\u001b[0;34m\u001b[0m\u001b[0;34m\u001b[0m\u001b[0m\n",
      "\u001b[0;31mTypeError\u001b[0m: processImage() missing 1 required positional argument: 'language'"
     ]
    }
   ],
   "source": [
    "from server import Server\n",
    "from storageHandler import StorageHandler\n",
    "from audioHandler import AudioHandler\n",
    "from translationHandler import TranslationHandler\n",
    "\n",
    "\n",
    "#instantiate handlers\n",
    "sr = Server('Linguo-495a24a54222.json')\n",
    "th = TranslationHandler('Linguo-495a24a54222.json')\n",
    "ah = AudioHandler()\n",
    "\n",
    "langList = th.getLanguageList()\n",
    "\n",
    "#input filePath \n",
    "filePath = input(\"What image filePath do you want to use? \")\n",
    "\n",
    "\n",
    "#upload image server call\n",
    "\n",
    "\n",
    "\n",
    "\n",
    "\n",
    "#take user input for language and check against possible options\n",
    "run = True\n",
    "while(run):\n",
    "    languageChoice = input(\"What language do you want to learn? \").lower()\n",
    "    for element in langList:\n",
    "        if element.lower() == languageChoice:\n",
    "            run = False\n",
    "    if(run == False):\n",
    "        break\n",
    "    print(\"\")\n",
    "    print(\"Language not currently supported try again!\")\n",
    " \n",
    "\n",
    "#get ttsCode and produce audio\n",
    "ttsCode = ah.produceCode(languageChoice)\n",
    "print(ttsCode)\n",
    "ah.produceAudio(labels, ttsCode)\n",
    "\n",
    "\n",
    "\n",
    "\n",
    "\n"
   ]
  },
  {
   "cell_type": "code",
   "execution_count": null,
   "metadata": {},
   "outputs": [],
   "source": []
  },
  {
   "cell_type": "code",
   "execution_count": null,
   "metadata": {},
   "outputs": [],
   "source": []
  }
 ],
 "metadata": {
  "kernelspec": {
   "display_name": "Python 3",
   "language": "python",
   "name": "python3"
  },
  "language_info": {
   "codemirror_mode": {
    "name": "ipython",
    "version": 3
   },
   "file_extension": ".py",
   "mimetype": "text/x-python",
   "name": "python",
   "nbconvert_exporter": "python",
   "pygments_lexer": "ipython3",
   "version": "3.6.5"
  }
 },
 "nbformat": 4,
 "nbformat_minor": 2
}
