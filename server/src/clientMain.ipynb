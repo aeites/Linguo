{
 "cells": [
  {
   "cell_type": "code",
   "execution_count": 2,
   "metadata": {},
   "outputs": [
    {
     "name": "stdout",
     "output_type": "stream",
     "text": [
      "/b/storage_photos/o\n",
      "Eventbright Banner.jpg\n",
      "/b/storage_photos/o/Eventbright%20Banner.jpg\n",
      "New Flyer.jpg\n",
      "/b/storage_photos/o/New%20Flyer.jpg\n",
      "Pi Day 2019.jpg\n",
      "/b/storage_photos/o/Pi%20Day%202019.jpg\n",
      "Pi Day Image.jpg\n",
      "/b/storage_photos/o/Pi%20Day%20Image.jpg\n",
      "cat.jpg\n",
      "/b/storage_photos/o/cat.jpg\n",
      "linguo_white_text-01.png\n",
      "/b/storage_photos/o/linguo_white_text-01.png\n",
      "Enter one file to download: cat.jpg\n",
      "Unsupported Method\n",
      "What image filePath do you want to use? crappy.jpeg\n",
      "What language do you want to learn? spanish\n"
     ]
    },
    {
     "ename": "AttributeError",
     "evalue": "'TranslationHandler' object has no attribute 'language'",
     "output_type": "error",
     "traceback": [
      "\u001b[0;31m---------------------------------------------------------------------------\u001b[0m",
      "\u001b[0;31mAttributeError\u001b[0m                            Traceback (most recent call last)",
      "\u001b[0;32m<ipython-input-2-b0a8bb166ac5>\u001b[0m in \u001b[0;36m<module>\u001b[0;34m()\u001b[0m\n\u001b[1;32m     33\u001b[0m \u001b[0;34m\u001b[0m\u001b[0m\n\u001b[1;32m     34\u001b[0m \u001b[0;31m#get text to speech code\u001b[0m\u001b[0;34m\u001b[0m\u001b[0;34m\u001b[0m\u001b[0m\n\u001b[0;32m---> 35\u001b[0;31m \u001b[0mttsCode\u001b[0m \u001b[0;34m=\u001b[0m \u001b[0mth\u001b[0m\u001b[0;34m.\u001b[0m\u001b[0mget_TTS_language_code\u001b[0m\u001b[0;34m(\u001b[0m\u001b[0;34m)\u001b[0m\u001b[0;34m\u001b[0m\u001b[0m\n\u001b[0m\u001b[1;32m     36\u001b[0m \u001b[0;34m\u001b[0m\u001b[0m\n\u001b[1;32m     37\u001b[0m \u001b[0;31m#audioHandler\u001b[0m\u001b[0;34m\u001b[0m\u001b[0;34m\u001b[0m\u001b[0m\n",
      "\u001b[0;32m~/Linguo/server/src/translationHandler.py\u001b[0m in \u001b[0;36mget_TTS_language_code\u001b[0;34m(self)\u001b[0m\n\u001b[1;32m     69\u001b[0m     \u001b[0;31m# returns language code for text-to-speech translation\u001b[0m\u001b[0;34m\u001b[0m\u001b[0;34m\u001b[0m\u001b[0m\n\u001b[1;32m     70\u001b[0m     \u001b[0;32mdef\u001b[0m \u001b[0mget_TTS_language_code\u001b[0m\u001b[0;34m(\u001b[0m\u001b[0mself\u001b[0m\u001b[0;34m)\u001b[0m\u001b[0;34m:\u001b[0m\u001b[0;34m\u001b[0m\u001b[0m\n\u001b[0;32m---> 71\u001b[0;31m         \u001b[0;32mreturn\u001b[0m \u001b[0mtexttospeech\u001b[0m\u001b[0;34m[\u001b[0m\u001b[0mself\u001b[0m\u001b[0;34m.\u001b[0m\u001b[0mlanguage\u001b[0m\u001b[0;34m]\u001b[0m\u001b[0;34m\u001b[0m\u001b[0m\n\u001b[0m\u001b[1;32m     72\u001b[0m \u001b[0;34m\u001b[0m\u001b[0m\n\u001b[1;32m     73\u001b[0m     \u001b[0;32mdef\u001b[0m \u001b[0mauthenticate\u001b[0m\u001b[0;34m(\u001b[0m\u001b[0mself\u001b[0m\u001b[0;34m,\u001b[0m \u001b[0mcredentials_path\u001b[0m\u001b[0;34m)\u001b[0m\u001b[0;34m:\u001b[0m\u001b[0;34m\u001b[0m\u001b[0m\n",
      "\u001b[0;31mAttributeError\u001b[0m: 'TranslationHandler' object has no attribute 'language'"
     ]
    }
   ],
   "source": [
    "from translationHandler import TranslationHandler\n",
    "from visionHandler import VisionHandler\n",
    "from audioHandler import AudioHandler \n",
    "from server import Server\n",
    "\n",
    "#instantiate handlers\n",
    "sr = Server('Linguo-495a24a54222.json')\n",
    "th = TranslationHandler('Linguo-495a24a54222.json')\n",
    "vh = VisionHandler('Linguo-495a24a54222.json')\n",
    "\n",
    "langList = th.getLanguageList()\n",
    "\n",
    "#input filePath \n",
    "filePath = input(\"What image filePath do you want to use? \")\n",
    "\n",
    "#upload image\n",
    "\n",
    "#call server processImage\n",
    "\n",
    "\n",
    "\n",
    "\n",
    "#take user input for language and check against possible options\n",
    "run = True\n",
    "while(run):\n",
    "    languageChoice = input(\"What language do you want to learn? \").lower()\n",
    "    \n",
    "    for element in langList:\n",
    "        if element.lower() == languageChoice:\n",
    "            run = False\n",
    "    if(run == False):\n",
    "        break\n",
    "    print(\"\")\n",
    "    print(\"Language not currently supported try again!\")\n",
    "    \n",
    "\n",
    "#translate text\n",
    "\n",
    "\n",
    "\n",
    "\n",
    "#overlay and final ouput\n",
    "\n",
    "#audioHandler\n",
    "audioHandler.produceAudio(labels, ttsCode)\n",
    "\n",
    "\n"
   ]
  },
  {
   "cell_type": "code",
   "execution_count": null,
   "metadata": {},
   "outputs": [],
   "source": []
  },
  {
   "cell_type": "code",
   "execution_count": null,
   "metadata": {},
   "outputs": [],
   "source": []
  }
 ],
 "metadata": {
  "kernelspec": {
   "display_name": "Python 3",
   "language": "python",
   "name": "python3"
  },
  "language_info": {
   "codemirror_mode": {
    "name": "ipython",
    "version": 3
   },
   "file_extension": ".py",
   "mimetype": "text/x-python",
   "name": "python",
   "nbconvert_exporter": "python",
   "pygments_lexer": "ipython3",
   "version": "3.6.5"
  }
 },
 "nbformat": 4,
 "nbformat_minor": 2
}
