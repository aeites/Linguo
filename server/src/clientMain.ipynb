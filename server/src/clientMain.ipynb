{
 "cells": [
  {
   "cell_type": "code",
   "execution_count": 15,
   "metadata": {},
   "outputs": [
    {
     "name": "stdout",
     "output_type": "stream",
     "text": [
      "What image name do you want to use? bike\n",
      "gs://storage_photos/bike.jpg\n",
      "What language do you want to learn? portuguese\n",
      "test\n",
      "Labels:\n",
      "Land vehicle, Score: 0.9961627125740051\n",
      "Motorcycle, Score: 0.9935615658760071\n",
      "Vehicle, Score: 0.9903031587600708\n",
      "Motorcycling, Score: 0.9276136755943298\n",
      "Cruiser, Score: 0.9109349846839905\n",
      "Motor vehicle, Score: 0.9010037183761597\n",
      "Mode of transport, Score: 0.8081701397895813\n",
      "Car, Score: 0.7949872612953186\n",
      "Automotive tire, Score: 0.7870362401008606\n",
      "Motorcycle helmet, Score: 0.741820216178894\n",
      "Land vehicle\n",
      "He just sat back, this six foot three man with his hatchet face who served as fighter pilot in the war and a motorcycle cop before he became a writer, and reached into his desk and handed me back my shredded resignation letter.\n",
      "['Ele apenas recostou-se, este homem de quase dois metros e três com o rosto machado que serviu como piloto de caça na guerra e um policial de motocicleta antes de se tornar um escritor, e enfiou a mão na mesa e me devolveu minha carta de demissão.']\n",
      "\n"
     ]
    }
   ],
   "source": [
    "from storageHandler import StorageHandler\n",
    "from audioHandler import AudioHandler\n",
    "from translationHandler import TranslationHandler\n",
    "from PIL import Image\n",
    "from server import Server\n",
    "\n",
    "#instantiate handlers\n",
    "th = TranslationHandler('api-key.json')\n",
    "sh = StorageHandler('api-key.json')\n",
    "sr = Server('api-key.json')\n",
    "\n",
    "\n",
    "\n",
    "#input filePath \n",
    "fileName = input(\"What image name do you want to use? \")\n",
    "filePath = fileName + \".jpg\"\n",
    "\n",
    "\n",
    "#upload image server call\n",
    "remoteImagePath = sh.uploadNewPhoto(filePath, sh.getBucket())\n",
    "print(remoteImagePath)\n",
    "\n",
    "#get language possible list \n",
    "langList = th.getLanguageList()\n",
    "\n",
    "#take user input for language and check against possible options\n",
    "run = True\n",
    "while(run):\n",
    "    languageChoice = input(\"What language do you want to learn? \").lower()\n",
    "    for element in langList:\n",
    "        if element.lower() == languageChoice:\n",
    "            run = False\n",
    "    if(run == False):\n",
    "        break\n",
    "    print(\"\")\n",
    "    print(\"Language not currently supported try again!\")\n",
    " \n",
    "\n",
    "#process image\n",
    "##remoteImagePath = \"gs://\" + sh.getBucket().name + r\"/\" + filePath\n",
    "\n",
    "processed = sr.processImage(fileName, remoteImagePath, languageChoice)\n",
    "print(processed[1])\n",
    "#get overlay image and display\n",
    "##filePath= fileName + \"_processed\" + \".jpeg\"\n",
    "##sh.downloadOneBlob(sh.getBucket(), filePath)\n",
    "# img = Image.open(processed[1])\n",
    "# img.show()\n",
    "\n",
    "#get ttsCode and produce audio\n",
    "ah = AudioHandler(processed[0], languageChoice)\n",
    "ttsCode = ah.produceCode(languageChoice)\n",
    "\n",
    "\n",
    "\n",
    "ah.produceAudio(processed[0], ttsCode)\n"
   ]
  },
  {
   "cell_type": "code",
   "execution_count": null,
   "metadata": {},
   "outputs": [],
   "source": []
  },
  {
   "cell_type": "code",
   "execution_count": null,
   "metadata": {},
   "outputs": [],
   "source": []
  },
  {
   "cell_type": "code",
   "execution_count": null,
   "metadata": {},
   "outputs": [],
   "source": []
  }
 ],
 "metadata": {
  "kernelspec": {
   "display_name": "Python 3",
   "language": "python",
   "name": "python3"
  },
  "language_info": {
   "codemirror_mode": {
    "name": "ipython",
    "version": 3
   },
   "file_extension": ".py",
   "mimetype": "text/x-python",
   "name": "python",
   "nbconvert_exporter": "python",
   "pygments_lexer": "ipython3",
   "version": "3.6.5"
  }
 },
 "nbformat": 4,
 "nbformat_minor": 2
}
