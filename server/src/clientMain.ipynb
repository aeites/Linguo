{
 "cells": [
  {
   "cell_type": "code",
   "execution_count": 6,
   "metadata": {},
   "outputs": [
    {
     "name": "stdout",
     "output_type": "stream",
     "text": [
      "What image name do you want to use? test1\n",
      "What language do you want to learn? spanish\n",
      "Save file as: test1\n"
     ]
    },
    {
     "ename": "FileNotFoundError",
     "evalue": "[Errno 2] No such file or directory: 'test1_processed.jpeg'",
     "output_type": "error",
     "traceback": [
      "\u001b[0;31m---------------------------------------------------------------------------\u001b[0m",
      "\u001b[0;31mFileNotFoundError\u001b[0m                         Traceback (most recent call last)",
      "\u001b[0;32m<ipython-input-6-557f53b253ef>\u001b[0m in \u001b[0;36m<module>\u001b[0;34m()\u001b[0m\n\u001b[1;32m     43\u001b[0m \u001b[0mfileName\u001b[0m \u001b[0;34m=\u001b[0m \u001b[0mfileName\u001b[0m \u001b[0;34m+\u001b[0m \u001b[0;34m\"_processed\"\u001b[0m \u001b[0;34m+\u001b[0m \u001b[0;34m\".jpeg\"\u001b[0m\u001b[0;34m\u001b[0m\u001b[0m\n\u001b[1;32m     44\u001b[0m \u001b[0msh\u001b[0m\u001b[0;34m.\u001b[0m\u001b[0mdownloadOneBlob\u001b[0m\u001b[0;34m(\u001b[0m\u001b[0msh\u001b[0m\u001b[0;34m.\u001b[0m\u001b[0mgetBucket\u001b[0m\u001b[0;34m(\u001b[0m\u001b[0;34m)\u001b[0m\u001b[0;34m,\u001b[0m \u001b[0mfilePath\u001b[0m\u001b[0;34m)\u001b[0m\u001b[0;34m\u001b[0m\u001b[0m\n\u001b[0;32m---> 45\u001b[0;31m \u001b[0mimg\u001b[0m \u001b[0;34m=\u001b[0m \u001b[0mImage\u001b[0m\u001b[0;34m.\u001b[0m\u001b[0mopen\u001b[0m\u001b[0;34m(\u001b[0m\u001b[0mfileName\u001b[0m\u001b[0;34m)\u001b[0m\u001b[0;34m\u001b[0m\u001b[0m\n\u001b[0m\u001b[1;32m     46\u001b[0m \u001b[0mimg\u001b[0m\u001b[0;34m.\u001b[0m\u001b[0mshow\u001b[0m\u001b[0;34m(\u001b[0m\u001b[0;34m)\u001b[0m\u001b[0;34m\u001b[0m\u001b[0m\n\u001b[1;32m     47\u001b[0m \u001b[0;34m\u001b[0m\u001b[0m\n",
      "\u001b[0;32m~/anaconda3/lib/python3.6/site-packages/PIL/Image.py\u001b[0m in \u001b[0;36mopen\u001b[0;34m(fp, mode)\u001b[0m\n\u001b[1;32m   2546\u001b[0m \u001b[0;34m\u001b[0m\u001b[0m\n\u001b[1;32m   2547\u001b[0m     \u001b[0;32mif\u001b[0m \u001b[0mfilename\u001b[0m\u001b[0;34m:\u001b[0m\u001b[0;34m\u001b[0m\u001b[0m\n\u001b[0;32m-> 2548\u001b[0;31m         \u001b[0mfp\u001b[0m \u001b[0;34m=\u001b[0m \u001b[0mbuiltins\u001b[0m\u001b[0;34m.\u001b[0m\u001b[0mopen\u001b[0m\u001b[0;34m(\u001b[0m\u001b[0mfilename\u001b[0m\u001b[0;34m,\u001b[0m \u001b[0;34m\"rb\"\u001b[0m\u001b[0;34m)\u001b[0m\u001b[0;34m\u001b[0m\u001b[0m\n\u001b[0m\u001b[1;32m   2549\u001b[0m         \u001b[0mexclusive_fp\u001b[0m \u001b[0;34m=\u001b[0m \u001b[0;32mTrue\u001b[0m\u001b[0;34m\u001b[0m\u001b[0m\n\u001b[1;32m   2550\u001b[0m \u001b[0;34m\u001b[0m\u001b[0m\n",
      "\u001b[0;31mFileNotFoundError\u001b[0m: [Errno 2] No such file or directory: 'test1_processed.jpeg'"
     ]
    }
   ],
   "source": [
    "from storageHandler import StorageHandler\n",
    "from audioHandler import AudioHandler\n",
    "from translationHandler import TranslationHandler\n",
    "from PIL import Image\n",
    "#from server import Server\n",
    "\n",
    "#instantiate handlers\n",
    "th = TranslationHandler('Linguo-495a24a54222.json')\n",
    "sh = StorageHandler('Linguo-495a24a54222.json')\n",
    "##sr = Server('Linguo-495a24a54222.json')\n",
    "\n",
    "\n",
    "\n",
    "#input filePath \n",
    "fileName = input(\"What image name do you want to use? \")\n",
    "filePath = fileName + \".jpeg\"\n",
    "\n",
    "\n",
    "#upload image server call\n",
    "sh.uploadNewPhoto(filePath, sh.getBucket())\n",
    "\n",
    "\n",
    "#get language possible list \n",
    "langList = th.getLanguageList()\n",
    "\n",
    "#take user input for language and check against possible options\n",
    "run = True\n",
    "while(run):\n",
    "    languageChoice = input(\"What language do you want to learn? \").lower()\n",
    "    for element in langList:\n",
    "        if element.lower() == languageChoice:\n",
    "            run = False\n",
    "    if(run == False):\n",
    "        break\n",
    "    print(\"\")\n",
    "    print(\"Language not currently supported try again!\")\n",
    " \n",
    "\n",
    "#process image\n",
    "##sr.process_image(fileName, )\n",
    "\n",
    "#get overlay image and display\n",
    "fileName = fileName + \"_processed\" + \".jpeg\"\n",
    "sh.downloadOneBlob(sh.getBucket(), filePath)\n",
    "img = Image.open(fileName)\n",
    "img.show()\n",
    "\n",
    "#get ttsCode and produce audio\n",
    "ah = AudioHandler(languageChoice)\n",
    "ttsCode = ah.produceCode(languageChoice)\n",
    "print(ttsCode)\n",
    "\n",
    "\n",
    "###ah.produceAudio(labels, languageChoice)\n"
   ]
  },
  {
   "cell_type": "code",
   "execution_count": null,
   "metadata": {},
   "outputs": [],
   "source": []
  },
  {
   "cell_type": "code",
   "execution_count": null,
   "metadata": {},
   "outputs": [],
   "source": []
  }
 ],
 "metadata": {
  "kernelspec": {
   "display_name": "Python 3",
   "language": "python",
   "name": "python3"
  },
  "language_info": {
   "codemirror_mode": {
    "name": "ipython",
    "version": 3
   },
   "file_extension": ".py",
   "mimetype": "text/x-python",
   "name": "python",
   "nbconvert_exporter": "python",
   "pygments_lexer": "ipython3",
   "version": "3.6.5"
  }
 },
 "nbformat": 4,
 "nbformat_minor": 2
}
