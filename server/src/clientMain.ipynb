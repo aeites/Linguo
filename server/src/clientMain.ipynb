{
 "cells": [
  {
   "cell_type": "code",
   "execution_count": 3,
   "metadata": {},
   "outputs": [
    {
     "name": "stdout",
     "output_type": "stream",
     "text": [
      "What image filePath do you want to use? testCat.jpeg\n",
      "What language do you want to learn? spanish\n"
     ]
    },
    {
     "ename": "AttributeError",
     "evalue": "type object 'AudioHandler' has no attribute 'produceCode'",
     "output_type": "error",
     "traceback": [
      "\u001b[0;31m---------------------------------------------------------------------------\u001b[0m",
      "\u001b[0;31mAttributeError\u001b[0m                            Traceback (most recent call last)",
      "\u001b[0;32m<ipython-input-3-dd62c85852df>\u001b[0m in \u001b[0;36m<module>\u001b[0;34m()\u001b[0m\n\u001b[1;32m     38\u001b[0m \u001b[0;34m\u001b[0m\u001b[0m\n\u001b[1;32m     39\u001b[0m \u001b[0;31m#get ttsCode and produce audio\u001b[0m\u001b[0;34m\u001b[0m\u001b[0;34m\u001b[0m\u001b[0m\n\u001b[0;32m---> 40\u001b[0;31m \u001b[0mttsCode\u001b[0m \u001b[0;34m=\u001b[0m \u001b[0mah\u001b[0m\u001b[0;34m.\u001b[0m\u001b[0mproduceCode\u001b[0m\u001b[0;34m(\u001b[0m\u001b[0mlanguageChoice\u001b[0m\u001b[0;34m)\u001b[0m\u001b[0;34m\u001b[0m\u001b[0m\n\u001b[0m\u001b[1;32m     41\u001b[0m \u001b[0mprint\u001b[0m\u001b[0;34m(\u001b[0m\u001b[0mttsCode\u001b[0m\u001b[0;34m)\u001b[0m\u001b[0;34m\u001b[0m\u001b[0m\n\u001b[1;32m     42\u001b[0m \u001b[0mah\u001b[0m\u001b[0;34m.\u001b[0m\u001b[0mproduceAudio\u001b[0m\u001b[0;34m(\u001b[0m\u001b[0mlabels\u001b[0m\u001b[0;34m,\u001b[0m \u001b[0mttsCode\u001b[0m\u001b[0;34m)\u001b[0m\u001b[0;34m\u001b[0m\u001b[0m\n",
      "\u001b[0;31mAttributeError\u001b[0m: type object 'AudioHandler' has no attribute 'produceCode'"
     ]
    }
   ],
   "source": [
    "from server import Server\n",
    "from storageHandler import StorageHandler\n",
    "from audioHandler import AudioHandler as ah\n",
    "from translationHandler import TranslationHandler\n",
    "\n",
    "\n",
    "#instantiate handlers\n",
    "sr = Server('Linguo-495a24a54222.json')\n",
    "th = TranslationHandler('Linguo-495a24a54222.json')\n",
    "sh = StorageHandler('Linguo-495a24a54222.json')\n",
    "\n",
    "\n",
    "\n",
    "\n",
    "#input filePath \n",
    "filePath = input(\"What image filePath do you want to use? \")\n",
    "\n",
    "\n",
    "#upload image server call\n",
    "sh.uploadNewPhoto(filePath, sh.getBucket())\n",
    "\n",
    "\n",
    "#get langauge possible list \n",
    "langList = th.getLanguageList()\n",
    "\n",
    "#take user input for language and check against possible options\n",
    "run = True\n",
    "while(run):\n",
    "    languageChoice = input(\"What language do you want to learn? \").lower()\n",
    "    for element in langList:\n",
    "        if element.lower() == languageChoice:\n",
    "            run = False\n",
    "    if(run == False):\n",
    "        break\n",
    "    print(\"\")\n",
    "    print(\"Language not currently supported try again!\")\n",
    " \n",
    "\n",
    "#get ttsCode and produce audio\n",
    "ttsCode = ah.produceCode(languageChoice)\n",
    "print(ttsCode)\n",
    "ah.produceAudio(labels, ttsCode)\n",
    "\n",
    "\n",
    "\n",
    "\n",
    "\n"
   ]
  },
  {
   "cell_type": "code",
   "execution_count": null,
   "metadata": {},
   "outputs": [],
   "source": []
  },
  {
   "cell_type": "code",
   "execution_count": null,
   "metadata": {},
   "outputs": [],
   "source": []
  }
 ],
 "metadata": {
  "kernelspec": {
   "display_name": "Python 3",
   "language": "python",
   "name": "python3"
  },
  "language_info": {
   "codemirror_mode": {
    "name": "ipython",
    "version": 3
   },
   "file_extension": ".py",
   "mimetype": "text/x-python",
   "name": "python",
   "nbconvert_exporter": "python",
   "pygments_lexer": "ipython3",
   "version": "3.6.5"
  }
 },
 "nbformat": 4,
 "nbformat_minor": 2
}
