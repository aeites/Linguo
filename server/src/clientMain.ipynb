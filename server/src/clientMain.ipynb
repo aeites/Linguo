{
 "cells": [
  {
   "cell_type": "code",
   "execution_count": 14,
   "metadata": {},
   "outputs": [
    {
     "name": "stdout",
     "output_type": "stream",
     "text": [
      "What image name do you want to use? test1\n",
      "What language do you want to learn? spanish\n"
     ]
    },
    {
     "ename": "NameError",
     "evalue": "name 'processed' is not defined",
     "output_type": "error",
     "traceback": [
      "\u001b[0;31m---------------------------------------------------------------------------\u001b[0m",
      "\u001b[0;31mNameError\u001b[0m                                 Traceback (most recent call last)",
      "\u001b[0;32m<ipython-input-14-8a8362d2d6a5>\u001b[0m in \u001b[0;36m<module>\u001b[0;34m()\u001b[0m\n\u001b[1;32m     45\u001b[0m \u001b[0;31m##filePath= fileName + \"_processed\" + \".jpeg\"\u001b[0m\u001b[0;34m\u001b[0m\u001b[0;34m\u001b[0m\u001b[0m\n\u001b[1;32m     46\u001b[0m \u001b[0;31m##sh.downloadOneBlob(sh.getBucket(), filePath)\u001b[0m\u001b[0;34m\u001b[0m\u001b[0;34m\u001b[0m\u001b[0m\n\u001b[0;32m---> 47\u001b[0;31m \u001b[0mimg\u001b[0m \u001b[0;34m=\u001b[0m \u001b[0mImage\u001b[0m\u001b[0;34m.\u001b[0m\u001b[0mopen\u001b[0m\u001b[0;34m(\u001b[0m\u001b[0mprocessed\u001b[0m\u001b[0;34m[\u001b[0m\u001b[0;36m1\u001b[0m\u001b[0;34m]\u001b[0m\u001b[0;34m)\u001b[0m\u001b[0;34m\u001b[0m\u001b[0m\n\u001b[0m\u001b[1;32m     48\u001b[0m \u001b[0mimg\u001b[0m\u001b[0;34m.\u001b[0m\u001b[0mshow\u001b[0m\u001b[0;34m(\u001b[0m\u001b[0;34m)\u001b[0m\u001b[0;34m\u001b[0m\u001b[0m\n\u001b[1;32m     49\u001b[0m \u001b[0;34m\u001b[0m\u001b[0m\n",
      "\u001b[0;31mNameError\u001b[0m: name 'processed' is not defined"
     ]
    }
   ],
   "source": [
    "from storageHandler import StorageHandler\n",
    "from audioHandler import AudioHandler\n",
    "from translationHandler import TranslationHandler\n",
    "from PIL import Image\n",
    "#from server import Server\n",
    "\n",
    "#instantiate handlers\n",
    "th = TranslationHandler('api-key.json')\n",
    "sh = StorageHandler('api-key.json')\n",
    "#sr = Server('Linguo-495a24a54222.json')\n",
    "\n",
    "\n",
    "\n",
    "#input filePath \n",
    "fileName = input(\"What image name do you want to use? \")\n",
    "filePath = fileName + \".jpeg\"\n",
    "\n",
    "\n",
    "#upload image server call\n",
    "sh.uploadNewPhoto(filePath, sh.getBucket())\n",
    "\n",
    "\n",
    "#get language possible list \n",
    "langList = th.getLanguageList()\n",
    "\n",
    "#take user input for language and check against possible options\n",
    "run = True\n",
    "while(run):\n",
    "    languageChoice = input(\"What language do you want to learn? \").lower()\n",
    "    for element in langList:\n",
    "        if element.lower() == languageChoice:\n",
    "            run = False\n",
    "    if(run == False):\n",
    "        break\n",
    "    print(\"\")\n",
    "    print(\"Language not currently supported try again!\")\n",
    " \n",
    "\n",
    "#process image\n",
    "##remoteImagePath = \"gs://\" + sh.getBucket().name + r\"/\" + filePath\n",
    "\n",
    "#processed = sr.processImage(fileName, remoteImagePath, languageChoice)\n",
    "\n",
    "#get overlay image and display\n",
    "##filePath= fileName + \"_processed\" + \".jpeg\"\n",
    "##sh.downloadOneBlob(sh.getBucket(), filePath)\n",
    "img = Image.open(processed[1])\n",
    "img.show()\n",
    "\n",
    "#get ttsCode and produce audio\n",
    "ah = AudioHandler(languageChoice)\n",
    "ttsCode = ah.produceCode(languageChoice)\n",
    "print(ttsCode)\n",
    "\n",
    "\n",
    "###ah.produceAudio(processed[0], languageChoice)\n"
   ]
  },
  {
   "cell_type": "code",
   "execution_count": null,
   "metadata": {},
   "outputs": [],
   "source": []
  },
  {
   "cell_type": "code",
   "execution_count": null,
   "metadata": {},
   "outputs": [],
   "source": []
  }
 ],
 "metadata": {
  "kernelspec": {
   "display_name": "Python 3",
   "language": "python",
   "name": "python3"
  },
  "language_info": {
   "codemirror_mode": {
    "name": "ipython",
    "version": 3
   },
   "file_extension": ".py",
   "mimetype": "text/x-python",
   "name": "python",
   "nbconvert_exporter": "python",
   "pygments_lexer": "ipython3",
   "version": "3.6.5"
  }
 },
 "nbformat": 4,
 "nbformat_minor": 2
}
